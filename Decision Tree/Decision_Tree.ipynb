{
  "nbformat": 4,
  "nbformat_minor": 0,
  "metadata": {
    "colab": {
      "provenance": []
    },
    "kernelspec": {
      "name": "python3",
      "display_name": "Python 3"
    },
    "language_info": {
      "name": "python"
    }
  },
  "cells": [
    {
      "cell_type": "markdown",
      "source": [
        "#Decision Trees"
      ],
      "metadata": {
        "id": "9qwZdfpOfkdj"
      }
    },
    {
      "cell_type": "markdown",
      "source": [
        "Decision trees are also implmented in scikit-learn. Let's use DecisionTreeClassifier."
      ],
      "metadata": {
        "id": "o2akHYY4fiRJ"
      }
    },
    {
      "cell_type": "code",
      "execution_count": 1,
      "metadata": {
        "colab": {
          "base_uri": "https://localhost:8080/"
        },
        "id": "S5nYTsGXfVJc",
        "outputId": "b87d186c-d1fd-457d-f8a5-658c8f4f1e96"
      },
      "outputs": [
        {
          "output_type": "stream",
          "name": "stdout",
          "text": [
            "Training set score: 1.000\n",
            "Test set score: 0.937\n"
          ]
        }
      ],
      "source": [
        "from sklearn.datasets import load_breast_cancer\n",
        "from sklearn.model_selection import train_test_split\n",
        "from sklearn.tree import DecisionTreeClassifier\n",
        "\n",
        "cancer = load_breast_cancer()\n",
        "train_feature, test_feature, train_class, test_class = train_test_split(\n",
        "    cancer.data, cancer.target, stratify=cancer.target, random_state=42)\n",
        "\n",
        "tree = DecisionTreeClassifier(random_state=0)\n",
        "tree.fit(train_feature, train_class)\n",
        "print(\"Training set score: {:.3f}\".format(tree.score(train_feature, train_class)))\n",
        "print(\"Test set score: {:.3f}\".format(tree.score(test_feature, test_class)))"
      ]
    },
    {
      "cell_type": "code",
      "source": [
        "from sklearn.datasets import load_breast_cancer\n",
        "from sklearn.model_selection import train_test_split\n",
        "from sklearn.tree import DecisionTreeClassifier\n",
        "\n",
        "cancer = load_breast_cancer()\n",
        "train_feature, test_feature, train_class, test_class = train_test_split(\n",
        "    cancer.data, cancer.target, stratify=cancer.target, random_state=42)\n",
        "\n",
        "tree = DecisionTreeClassifier(max_depth=4, random_state=0)\n",
        "tree.fit(train_feature, train_class)\n",
        "print(\"Training set score: {:.3f}\".format(tree.score(train_feature, train_class)))\n",
        "print(\"Test set score: {:.3f}\".format(tree.score(test_feature, test_class)))"
      ],
      "metadata": {
        "colab": {
          "base_uri": "https://localhost:8080/"
        },
        "id": "3dAjF4qHf6Po",
        "outputId": "80df0a2f-840f-4dd1-a9ff-1613157728b8"
      },
      "execution_count": 2,
      "outputs": [
        {
          "output_type": "stream",
          "name": "stdout",
          "text": [
            "Training set score: 0.988\n",
            "Test set score: 0.951\n"
          ]
        }
      ]
    },
    {
      "cell_type": "markdown",
      "source": [
        "If we don’t restrict the depth of a decision tree, the tree can become arbitrarily deep and complex. Unpruned trees are therefore prone to overfitting and not generalizing well to new data. Now let’s apply pre-pruning to the tree, which will stop developing the tree before we perfectly fit to the training data. One option is to stop building the tree after a certain depth has been reached. In the above code, we didn't set max_depth (i.e., max_depth= None,  which is the default value). Nodes are expanded until all leaves are pure or until all leaves contain less than min_samples_split instances (min_samples_split is another parameter in DecisionTreeClassifier). Now let's set max_depth=4, meaning only four consecutive questions can be asked. Limiting the depth of the tree decreases overfitting. This leads to a lower accuracy on the training set, but an improvement on the test set:"
      ],
      "metadata": {
        "id": "fyR63RtkgDUg"
      }
    },
    {
      "cell_type": "markdown",
      "source": [
        "We can visualize the tree using the export_graphviz function from the tree module. This writes a file in the .dot file format, which is a text file format for storing graphs. We set an option to color the nodes to reflect the majority class in each node and pass the class and features names so the tree can be properly labeled:"
      ],
      "metadata": {
        "id": "SRkRtk4ngHsP"
      }
    },
    {
      "cell_type": "code",
      "source": [
        "from sklearn.tree import export_graphviz\n",
        "export_graphviz(tree, out_file=\"tree.dot\", class_names=[\"malignant\", \"benign\"],\n",
        "                feature_names=cancer.feature_names, impurity=False, filled=True)"
      ],
      "metadata": {
        "id": "sMIvS4Oef-wY"
      },
      "execution_count": 3,
      "outputs": []
    },
    {
      "cell_type": "code",
      "source": [
        "import graphviz\n",
        "from IPython.display import display\n",
        "\n",
        "with open(\"tree.dot\") as f:\n",
        "    dot_graph = f.read()\n",
        "display(graphviz.Source(dot_graph))"
      ],
      "metadata": {
        "colab": {
          "base_uri": "https://localhost:8080/",
          "height": 677
        },
        "id": "VbQDKnwKgPiP",
        "outputId": "9209c4b8-0d5c-4e8a-9760-5fb1729b471e"
      },
      "execution_count": 4,
      "outputs": [
        {
          "output_type": "display_data",
          "data": {
            "image/svg+xml": "<?xml version=\"1.0\" encoding=\"UTF-8\" standalone=\"no\"?>\n<!DOCTYPE svg PUBLIC \"-//W3C//DTD SVG 1.1//EN\"\n \"http://www.w3.org/Graphics/SVG/1.1/DTD/svg11.dtd\">\n<!-- Generated by graphviz version 2.43.0 (0)\n -->\n<!-- Title: Tree Pages: 1 -->\n<svg width=\"1096pt\" height=\"477pt\"\n viewBox=\"0.00 0.00 1096.00 477.00\" xmlns=\"http://www.w3.org/2000/svg\" xmlns:xlink=\"http://www.w3.org/1999/xlink\">\n<g id=\"graph0\" class=\"graph\" transform=\"scale(1 1) rotate(0) translate(4 473)\">\n<title>Tree</title>\n<polygon fill=\"white\" stroke=\"transparent\" points=\"-4,4 -4,-473 1092,-473 1092,4 -4,4\"/>\n<!-- 0 -->\n<g id=\"node1\" class=\"node\">\n<title>0</title>\n<polygon fill=\"#afd7f4\" stroke=\"black\" points=\"683.5,-469 528.5,-469 528.5,-401 683.5,-401 683.5,-469\"/>\n<text text-anchor=\"middle\" x=\"606\" y=\"-453.8\" font-family=\"Helvetica,sans-Serif\" font-size=\"14.00\">worst radius &lt;= 16.795</text>\n<text text-anchor=\"middle\" x=\"606\" y=\"-438.8\" font-family=\"Helvetica,sans-Serif\" font-size=\"14.00\">samples = 426</text>\n<text text-anchor=\"middle\" x=\"606\" y=\"-423.8\" font-family=\"Helvetica,sans-Serif\" font-size=\"14.00\">value = [159, 267]</text>\n<text text-anchor=\"middle\" x=\"606\" y=\"-408.8\" font-family=\"Helvetica,sans-Serif\" font-size=\"14.00\">class = benign</text>\n</g>\n<!-- 1 -->\n<g id=\"node2\" class=\"node\">\n<title>1</title>\n<polygon fill=\"#4ca6e8\" stroke=\"black\" points=\"587,-365 387,-365 387,-297 587,-297 587,-365\"/>\n<text text-anchor=\"middle\" x=\"487\" y=\"-349.8\" font-family=\"Helvetica,sans-Serif\" font-size=\"14.00\">worst concave points &lt;= 0.136</text>\n<text text-anchor=\"middle\" x=\"487\" y=\"-334.8\" font-family=\"Helvetica,sans-Serif\" font-size=\"14.00\">samples = 284</text>\n<text text-anchor=\"middle\" x=\"487\" y=\"-319.8\" font-family=\"Helvetica,sans-Serif\" font-size=\"14.00\">value = [25, 259]</text>\n<text text-anchor=\"middle\" x=\"487\" y=\"-304.8\" font-family=\"Helvetica,sans-Serif\" font-size=\"14.00\">class = benign</text>\n</g>\n<!-- 0&#45;&gt;1 -->\n<g id=\"edge1\" class=\"edge\">\n<title>0&#45;&gt;1</title>\n<path fill=\"none\" stroke=\"black\" d=\"M567.36,-400.88C556.56,-391.62 544.7,-381.45 533.49,-371.85\"/>\n<polygon fill=\"black\" stroke=\"black\" points=\"535.72,-369.15 525.85,-365.3 531.16,-374.46 535.72,-369.15\"/>\n<text text-anchor=\"middle\" x=\"527.77\" y=\"-386.53\" font-family=\"Helvetica,sans-Serif\" font-size=\"14.00\">True</text>\n</g>\n<!-- 14 -->\n<g id=\"node15\" class=\"node\">\n<title>14</title>\n<polygon fill=\"#e78945\" stroke=\"black\" points=\"765,-365 617,-365 617,-297 765,-297 765,-365\"/>\n<text text-anchor=\"middle\" x=\"691\" y=\"-349.8\" font-family=\"Helvetica,sans-Serif\" font-size=\"14.00\">texture error &lt;= 0.473</text>\n<text text-anchor=\"middle\" x=\"691\" y=\"-334.8\" font-family=\"Helvetica,sans-Serif\" font-size=\"14.00\">samples = 142</text>\n<text text-anchor=\"middle\" x=\"691\" y=\"-319.8\" font-family=\"Helvetica,sans-Serif\" font-size=\"14.00\">value = [134, 8]</text>\n<text text-anchor=\"middle\" x=\"691\" y=\"-304.8\" font-family=\"Helvetica,sans-Serif\" font-size=\"14.00\">class = malignant</text>\n</g>\n<!-- 0&#45;&gt;14 -->\n<g id=\"edge14\" class=\"edge\">\n<title>0&#45;&gt;14</title>\n<path fill=\"none\" stroke=\"black\" d=\"M633.6,-400.88C640.95,-392.07 648.97,-382.43 656.64,-373.24\"/>\n<polygon fill=\"black\" stroke=\"black\" points=\"659.54,-375.22 663.25,-365.3 654.16,-370.74 659.54,-375.22\"/>\n<text text-anchor=\"middle\" x=\"665.51\" y=\"-386.5\" font-family=\"Helvetica,sans-Serif\" font-size=\"14.00\">False</text>\n</g>\n<!-- 2 -->\n<g id=\"node3\" class=\"node\">\n<title>2</title>\n<polygon fill=\"#3c9fe5\" stroke=\"black\" points=\"375.5,-261 232.5,-261 232.5,-193 375.5,-193 375.5,-261\"/>\n<text text-anchor=\"middle\" x=\"304\" y=\"-245.8\" font-family=\"Helvetica,sans-Serif\" font-size=\"14.00\">radius error &lt;= 1.048</text>\n<text text-anchor=\"middle\" x=\"304\" y=\"-230.8\" font-family=\"Helvetica,sans-Serif\" font-size=\"14.00\">samples = 252</text>\n<text text-anchor=\"middle\" x=\"304\" y=\"-215.8\" font-family=\"Helvetica,sans-Serif\" font-size=\"14.00\">value = [4, 248]</text>\n<text text-anchor=\"middle\" x=\"304\" y=\"-200.8\" font-family=\"Helvetica,sans-Serif\" font-size=\"14.00\">class = benign</text>\n</g>\n<!-- 1&#45;&gt;2 -->\n<g id=\"edge2\" class=\"edge\">\n<title>1&#45;&gt;2</title>\n<path fill=\"none\" stroke=\"black\" d=\"M427.59,-296.88C409.92,-287.04 390.42,-276.17 372.24,-266.03\"/>\n<polygon fill=\"black\" stroke=\"black\" points=\"373.87,-262.94 363.43,-261.12 370.46,-269.05 373.87,-262.94\"/>\n</g>\n<!-- 7 -->\n<g id=\"node8\" class=\"node\">\n<title>7</title>\n<polygon fill=\"#f3c3a1\" stroke=\"black\" points=\"563,-261 411,-261 411,-193 563,-193 563,-261\"/>\n<text text-anchor=\"middle\" x=\"487\" y=\"-245.8\" font-family=\"Helvetica,sans-Serif\" font-size=\"14.00\">worst texture &lt;= 25.62</text>\n<text text-anchor=\"middle\" x=\"487\" y=\"-230.8\" font-family=\"Helvetica,sans-Serif\" font-size=\"14.00\">samples = 32</text>\n<text text-anchor=\"middle\" x=\"487\" y=\"-215.8\" font-family=\"Helvetica,sans-Serif\" font-size=\"14.00\">value = [21, 11]</text>\n<text text-anchor=\"middle\" x=\"487\" y=\"-200.8\" font-family=\"Helvetica,sans-Serif\" font-size=\"14.00\">class = malignant</text>\n</g>\n<!-- 1&#45;&gt;7 -->\n<g id=\"edge7\" class=\"edge\">\n<title>1&#45;&gt;7</title>\n<path fill=\"none\" stroke=\"black\" d=\"M487,-296.88C487,-288.78 487,-279.98 487,-271.47\"/>\n<polygon fill=\"black\" stroke=\"black\" points=\"490.5,-271.3 487,-261.3 483.5,-271.3 490.5,-271.3\"/>\n</g>\n<!-- 3 -->\n<g id=\"node4\" class=\"node\">\n<title>3</title>\n<polygon fill=\"#3b9ee5\" stroke=\"black\" points=\"225,-157 45,-157 45,-89 225,-89 225,-157\"/>\n<text text-anchor=\"middle\" x=\"135\" y=\"-141.8\" font-family=\"Helvetica,sans-Serif\" font-size=\"14.00\">smoothness error &lt;= 0.003</text>\n<text text-anchor=\"middle\" x=\"135\" y=\"-126.8\" font-family=\"Helvetica,sans-Serif\" font-size=\"14.00\">samples = 251</text>\n<text text-anchor=\"middle\" x=\"135\" y=\"-111.8\" font-family=\"Helvetica,sans-Serif\" font-size=\"14.00\">value = [3, 248]</text>\n<text text-anchor=\"middle\" x=\"135\" y=\"-96.8\" font-family=\"Helvetica,sans-Serif\" font-size=\"14.00\">class = benign</text>\n</g>\n<!-- 2&#45;&gt;3 -->\n<g id=\"edge3\" class=\"edge\">\n<title>2&#45;&gt;3</title>\n<path fill=\"none\" stroke=\"black\" d=\"M249.13,-192.88C232.96,-183.12 215.14,-172.37 198.47,-162.31\"/>\n<polygon fill=\"black\" stroke=\"black\" points=\"200.25,-159.3 189.88,-157.12 196.64,-165.29 200.25,-159.3\"/>\n</g>\n<!-- 6 -->\n<g id=\"node7\" class=\"node\">\n<title>6</title>\n<polygon fill=\"#e58139\" stroke=\"black\" points=\"365,-149.5 243,-149.5 243,-96.5 365,-96.5 365,-149.5\"/>\n<text text-anchor=\"middle\" x=\"304\" y=\"-134.3\" font-family=\"Helvetica,sans-Serif\" font-size=\"14.00\">samples = 1</text>\n<text text-anchor=\"middle\" x=\"304\" y=\"-119.3\" font-family=\"Helvetica,sans-Serif\" font-size=\"14.00\">value = [1, 0]</text>\n<text text-anchor=\"middle\" x=\"304\" y=\"-104.3\" font-family=\"Helvetica,sans-Serif\" font-size=\"14.00\">class = malignant</text>\n</g>\n<!-- 2&#45;&gt;6 -->\n<g id=\"edge6\" class=\"edge\">\n<title>2&#45;&gt;6</title>\n<path fill=\"none\" stroke=\"black\" d=\"M304,-192.88C304,-182.33 304,-170.6 304,-159.85\"/>\n<polygon fill=\"black\" stroke=\"black\" points=\"307.5,-159.52 304,-149.52 300.5,-159.52 307.5,-159.52\"/>\n</g>\n<!-- 4 -->\n<g id=\"node5\" class=\"node\">\n<title>4</title>\n<polygon fill=\"#7bbeee\" stroke=\"black\" points=\"104,-53 0,-53 0,0 104,0 104,-53\"/>\n<text text-anchor=\"middle\" x=\"52\" y=\"-37.8\" font-family=\"Helvetica,sans-Serif\" font-size=\"14.00\">samples = 4</text>\n<text text-anchor=\"middle\" x=\"52\" y=\"-22.8\" font-family=\"Helvetica,sans-Serif\" font-size=\"14.00\">value = [1, 3]</text>\n<text text-anchor=\"middle\" x=\"52\" y=\"-7.8\" font-family=\"Helvetica,sans-Serif\" font-size=\"14.00\">class = benign</text>\n</g>\n<!-- 3&#45;&gt;4 -->\n<g id=\"edge4\" class=\"edge\">\n<title>3&#45;&gt;4</title>\n<path fill=\"none\" stroke=\"black\" d=\"M105.97,-88.95C98.02,-79.89 89.39,-70.07 81.41,-60.99\"/>\n<polygon fill=\"black\" stroke=\"black\" points=\"83.83,-58.44 74.6,-53.24 78.57,-63.06 83.83,-58.44\"/>\n</g>\n<!-- 5 -->\n<g id=\"node6\" class=\"node\">\n<title>5</title>\n<polygon fill=\"#3b9ee5\" stroke=\"black\" points=\"232,-53 122,-53 122,0 232,0 232,-53\"/>\n<text text-anchor=\"middle\" x=\"177\" y=\"-37.8\" font-family=\"Helvetica,sans-Serif\" font-size=\"14.00\">samples = 247</text>\n<text text-anchor=\"middle\" x=\"177\" y=\"-22.8\" font-family=\"Helvetica,sans-Serif\" font-size=\"14.00\">value = [2, 245]</text>\n<text text-anchor=\"middle\" x=\"177\" y=\"-7.8\" font-family=\"Helvetica,sans-Serif\" font-size=\"14.00\">class = benign</text>\n</g>\n<!-- 3&#45;&gt;5 -->\n<g id=\"edge5\" class=\"edge\">\n<title>3&#45;&gt;5</title>\n<path fill=\"none\" stroke=\"black\" d=\"M149.69,-88.95C153.47,-80.44 157.55,-71.26 161.38,-62.65\"/>\n<polygon fill=\"black\" stroke=\"black\" points=\"164.7,-63.8 165.56,-53.24 158.3,-60.95 164.7,-63.8\"/>\n</g>\n<!-- 8 -->\n<g id=\"node9\" class=\"node\">\n<title>8</title>\n<polygon fill=\"#7bbeee\" stroke=\"black\" points=\"567,-157 383,-157 383,-89 567,-89 567,-157\"/>\n<text text-anchor=\"middle\" x=\"475\" y=\"-141.8\" font-family=\"Helvetica,sans-Serif\" font-size=\"14.00\">worst smoothness &lt;= 0.179</text>\n<text text-anchor=\"middle\" x=\"475\" y=\"-126.8\" font-family=\"Helvetica,sans-Serif\" font-size=\"14.00\">samples = 12</text>\n<text text-anchor=\"middle\" x=\"475\" y=\"-111.8\" font-family=\"Helvetica,sans-Serif\" font-size=\"14.00\">value = [3, 9]</text>\n<text text-anchor=\"middle\" x=\"475\" y=\"-96.8\" font-family=\"Helvetica,sans-Serif\" font-size=\"14.00\">class = benign</text>\n</g>\n<!-- 7&#45;&gt;8 -->\n<g id=\"edge8\" class=\"edge\">\n<title>7&#45;&gt;8</title>\n<path fill=\"none\" stroke=\"black\" d=\"M483.1,-192.88C482.15,-184.78 481.12,-175.98 480.11,-167.47\"/>\n<polygon fill=\"black\" stroke=\"black\" points=\"483.56,-166.82 478.92,-157.3 476.61,-167.64 483.56,-166.82\"/>\n</g>\n<!-- 11 -->\n<g id=\"node12\" class=\"node\">\n<title>11</title>\n<polygon fill=\"#e88f4f\" stroke=\"black\" points=\"755,-157 585,-157 585,-89 755,-89 755,-157\"/>\n<text text-anchor=\"middle\" x=\"670\" y=\"-141.8\" font-family=\"Helvetica,sans-Serif\" font-size=\"14.00\">worst symmetry &lt;= 0.268</text>\n<text text-anchor=\"middle\" x=\"670\" y=\"-126.8\" font-family=\"Helvetica,sans-Serif\" font-size=\"14.00\">samples = 20</text>\n<text text-anchor=\"middle\" x=\"670\" y=\"-111.8\" font-family=\"Helvetica,sans-Serif\" font-size=\"14.00\">value = [18, 2]</text>\n<text text-anchor=\"middle\" x=\"670\" y=\"-96.8\" font-family=\"Helvetica,sans-Serif\" font-size=\"14.00\">class = malignant</text>\n</g>\n<!-- 7&#45;&gt;11 -->\n<g id=\"edge11\" class=\"edge\">\n<title>7&#45;&gt;11</title>\n<path fill=\"none\" stroke=\"black\" d=\"M546.41,-192.88C564.08,-183.04 583.58,-172.17 601.76,-162.03\"/>\n<polygon fill=\"black\" stroke=\"black\" points=\"603.54,-165.05 610.57,-157.12 600.13,-158.94 603.54,-165.05\"/>\n</g>\n<!-- 9 -->\n<g id=\"node10\" class=\"node\">\n<title>9</title>\n<polygon fill=\"#4fa8e8\" stroke=\"black\" points=\"396,-53 292,-53 292,0 396,0 396,-53\"/>\n<text text-anchor=\"middle\" x=\"344\" y=\"-37.8\" font-family=\"Helvetica,sans-Serif\" font-size=\"14.00\">samples = 10</text>\n<text text-anchor=\"middle\" x=\"344\" y=\"-22.8\" font-family=\"Helvetica,sans-Serif\" font-size=\"14.00\">value = [1, 9]</text>\n<text text-anchor=\"middle\" x=\"344\" y=\"-7.8\" font-family=\"Helvetica,sans-Serif\" font-size=\"14.00\">class = benign</text>\n</g>\n<!-- 8&#45;&gt;9 -->\n<g id=\"edge9\" class=\"edge\">\n<title>8&#45;&gt;9</title>\n<path fill=\"none\" stroke=\"black\" d=\"M429.18,-88.95C415.87,-79.34 401.36,-68.87 388.14,-59.34\"/>\n<polygon fill=\"black\" stroke=\"black\" points=\"389.84,-56.25 379.68,-53.24 385.74,-61.93 389.84,-56.25\"/>\n</g>\n<!-- 10 -->\n<g id=\"node11\" class=\"node\">\n<title>10</title>\n<polygon fill=\"#e58139\" stroke=\"black\" points=\"536,-53 414,-53 414,0 536,0 536,-53\"/>\n<text text-anchor=\"middle\" x=\"475\" y=\"-37.8\" font-family=\"Helvetica,sans-Serif\" font-size=\"14.00\">samples = 2</text>\n<text text-anchor=\"middle\" x=\"475\" y=\"-22.8\" font-family=\"Helvetica,sans-Serif\" font-size=\"14.00\">value = [2, 0]</text>\n<text text-anchor=\"middle\" x=\"475\" y=\"-7.8\" font-family=\"Helvetica,sans-Serif\" font-size=\"14.00\">class = malignant</text>\n</g>\n<!-- 8&#45;&gt;10 -->\n<g id=\"edge10\" class=\"edge\">\n<title>8&#45;&gt;10</title>\n<path fill=\"none\" stroke=\"black\" d=\"M475,-88.95C475,-80.72 475,-71.85 475,-63.48\"/>\n<polygon fill=\"black\" stroke=\"black\" points=\"478.5,-63.24 475,-53.24 471.5,-63.24 478.5,-63.24\"/>\n</g>\n<!-- 12 -->\n<g id=\"node13\" class=\"node\">\n<title>12</title>\n<polygon fill=\"#9ccef2\" stroke=\"black\" points=\"658,-53 554,-53 554,0 658,0 658,-53\"/>\n<text text-anchor=\"middle\" x=\"606\" y=\"-37.8\" font-family=\"Helvetica,sans-Serif\" font-size=\"14.00\">samples = 3</text>\n<text text-anchor=\"middle\" x=\"606\" y=\"-22.8\" font-family=\"Helvetica,sans-Serif\" font-size=\"14.00\">value = [1, 2]</text>\n<text text-anchor=\"middle\" x=\"606\" y=\"-7.8\" font-family=\"Helvetica,sans-Serif\" font-size=\"14.00\">class = benign</text>\n</g>\n<!-- 11&#45;&gt;12 -->\n<g id=\"edge12\" class=\"edge\">\n<title>11&#45;&gt;12</title>\n<path fill=\"none\" stroke=\"black\" d=\"M647.62,-88.95C641.61,-80.07 635.1,-70.46 629.05,-61.54\"/>\n<polygon fill=\"black\" stroke=\"black\" points=\"631.94,-59.55 623.43,-53.24 626.14,-63.48 631.94,-59.55\"/>\n</g>\n<!-- 13 -->\n<g id=\"node14\" class=\"node\">\n<title>13</title>\n<polygon fill=\"#e58139\" stroke=\"black\" points=\"798,-53 676,-53 676,0 798,0 798,-53\"/>\n<text text-anchor=\"middle\" x=\"737\" y=\"-37.8\" font-family=\"Helvetica,sans-Serif\" font-size=\"14.00\">samples = 17</text>\n<text text-anchor=\"middle\" x=\"737\" y=\"-22.8\" font-family=\"Helvetica,sans-Serif\" font-size=\"14.00\">value = [17, 0]</text>\n<text text-anchor=\"middle\" x=\"737\" y=\"-7.8\" font-family=\"Helvetica,sans-Serif\" font-size=\"14.00\">class = malignant</text>\n</g>\n<!-- 11&#45;&gt;13 -->\n<g id=\"edge13\" class=\"edge\">\n<title>11&#45;&gt;13</title>\n<path fill=\"none\" stroke=\"black\" d=\"M693.43,-88.95C699.72,-80.07 706.54,-70.46 712.87,-61.54\"/>\n<polygon fill=\"black\" stroke=\"black\" points=\"715.82,-63.42 718.75,-53.24 710.11,-59.37 715.82,-63.42\"/>\n</g>\n<!-- 15 -->\n<g id=\"node16\" class=\"node\">\n<title>15</title>\n<polygon fill=\"#399de5\" stroke=\"black\" points=\"743,-253.5 639,-253.5 639,-200.5 743,-200.5 743,-253.5\"/>\n<text text-anchor=\"middle\" x=\"691\" y=\"-238.3\" font-family=\"Helvetica,sans-Serif\" font-size=\"14.00\">samples = 5</text>\n<text text-anchor=\"middle\" x=\"691\" y=\"-223.3\" font-family=\"Helvetica,sans-Serif\" font-size=\"14.00\">value = [0, 5]</text>\n<text text-anchor=\"middle\" x=\"691\" y=\"-208.3\" font-family=\"Helvetica,sans-Serif\" font-size=\"14.00\">class = benign</text>\n</g>\n<!-- 14&#45;&gt;15 -->\n<g id=\"edge15\" class=\"edge\">\n<title>14&#45;&gt;15</title>\n<path fill=\"none\" stroke=\"black\" d=\"M691,-296.88C691,-286.33 691,-274.6 691,-263.85\"/>\n<polygon fill=\"black\" stroke=\"black\" points=\"694.5,-263.52 691,-253.52 687.5,-263.52 694.5,-263.52\"/>\n</g>\n<!-- 16 -->\n<g id=\"node17\" class=\"node\">\n<title>16</title>\n<polygon fill=\"#e6843d\" stroke=\"black\" points=\"951.5,-261 784.5,-261 784.5,-193 951.5,-193 951.5,-261\"/>\n<text text-anchor=\"middle\" x=\"868\" y=\"-245.8\" font-family=\"Helvetica,sans-Serif\" font-size=\"14.00\">worst concavity &lt;= 0.191</text>\n<text text-anchor=\"middle\" x=\"868\" y=\"-230.8\" font-family=\"Helvetica,sans-Serif\" font-size=\"14.00\">samples = 137</text>\n<text text-anchor=\"middle\" x=\"868\" y=\"-215.8\" font-family=\"Helvetica,sans-Serif\" font-size=\"14.00\">value = [134, 3]</text>\n<text text-anchor=\"middle\" x=\"868\" y=\"-200.8\" font-family=\"Helvetica,sans-Serif\" font-size=\"14.00\">class = malignant</text>\n</g>\n<!-- 14&#45;&gt;16 -->\n<g id=\"edge16\" class=\"edge\">\n<title>14&#45;&gt;16</title>\n<path fill=\"none\" stroke=\"black\" d=\"M748.47,-296.88C765.4,-287.12 784.07,-276.37 801.52,-266.31\"/>\n<polygon fill=\"black\" stroke=\"black\" points=\"803.6,-269.15 810.52,-261.12 800.11,-263.09 803.6,-269.15\"/>\n</g>\n<!-- 17 -->\n<g id=\"node18\" class=\"node\">\n<title>17</title>\n<polygon fill=\"#bddef6\" stroke=\"black\" points=\"947.5,-157 788.5,-157 788.5,-89 947.5,-89 947.5,-157\"/>\n<text text-anchor=\"middle\" x=\"868\" y=\"-141.8\" font-family=\"Helvetica,sans-Serif\" font-size=\"14.00\">worst texture &lt;= 30.975</text>\n<text text-anchor=\"middle\" x=\"868\" y=\"-126.8\" font-family=\"Helvetica,sans-Serif\" font-size=\"14.00\">samples = 5</text>\n<text text-anchor=\"middle\" x=\"868\" y=\"-111.8\" font-family=\"Helvetica,sans-Serif\" font-size=\"14.00\">value = [2, 3]</text>\n<text text-anchor=\"middle\" x=\"868\" y=\"-96.8\" font-family=\"Helvetica,sans-Serif\" font-size=\"14.00\">class = benign</text>\n</g>\n<!-- 16&#45;&gt;17 -->\n<g id=\"edge17\" class=\"edge\">\n<title>16&#45;&gt;17</title>\n<path fill=\"none\" stroke=\"black\" d=\"M868,-192.88C868,-184.78 868,-175.98 868,-167.47\"/>\n<polygon fill=\"black\" stroke=\"black\" points=\"871.5,-167.3 868,-157.3 864.5,-167.3 871.5,-167.3\"/>\n</g>\n<!-- 20 -->\n<g id=\"node21\" class=\"node\">\n<title>20</title>\n<polygon fill=\"#e58139\" stroke=\"black\" points=\"1088,-149.5 966,-149.5 966,-96.5 1088,-96.5 1088,-149.5\"/>\n<text text-anchor=\"middle\" x=\"1027\" y=\"-134.3\" font-family=\"Helvetica,sans-Serif\" font-size=\"14.00\">samples = 132</text>\n<text text-anchor=\"middle\" x=\"1027\" y=\"-119.3\" font-family=\"Helvetica,sans-Serif\" font-size=\"14.00\">value = [132, 0]</text>\n<text text-anchor=\"middle\" x=\"1027\" y=\"-104.3\" font-family=\"Helvetica,sans-Serif\" font-size=\"14.00\">class = malignant</text>\n</g>\n<!-- 16&#45;&gt;20 -->\n<g id=\"edge20\" class=\"edge\">\n<title>16&#45;&gt;20</title>\n<path fill=\"none\" stroke=\"black\" d=\"M919.62,-192.88C938.57,-180.73 959.93,-167.03 978.58,-155.06\"/>\n<polygon fill=\"black\" stroke=\"black\" points=\"980.69,-157.87 987.22,-149.52 976.91,-151.97 980.69,-157.87\"/>\n</g>\n<!-- 18 -->\n<g id=\"node19\" class=\"node\">\n<title>18</title>\n<polygon fill=\"#399de5\" stroke=\"black\" points=\"920,-53 816,-53 816,0 920,0 920,-53\"/>\n<text text-anchor=\"middle\" x=\"868\" y=\"-37.8\" font-family=\"Helvetica,sans-Serif\" font-size=\"14.00\">samples = 3</text>\n<text text-anchor=\"middle\" x=\"868\" y=\"-22.8\" font-family=\"Helvetica,sans-Serif\" font-size=\"14.00\">value = [0, 3]</text>\n<text text-anchor=\"middle\" x=\"868\" y=\"-7.8\" font-family=\"Helvetica,sans-Serif\" font-size=\"14.00\">class = benign</text>\n</g>\n<!-- 17&#45;&gt;18 -->\n<g id=\"edge18\" class=\"edge\">\n<title>17&#45;&gt;18</title>\n<path fill=\"none\" stroke=\"black\" d=\"M868,-88.95C868,-80.72 868,-71.85 868,-63.48\"/>\n<polygon fill=\"black\" stroke=\"black\" points=\"871.5,-63.24 868,-53.24 864.5,-63.24 871.5,-63.24\"/>\n</g>\n<!-- 19 -->\n<g id=\"node20\" class=\"node\">\n<title>19</title>\n<polygon fill=\"#e58139\" stroke=\"black\" points=\"1060,-53 938,-53 938,0 1060,0 1060,-53\"/>\n<text text-anchor=\"middle\" x=\"999\" y=\"-37.8\" font-family=\"Helvetica,sans-Serif\" font-size=\"14.00\">samples = 2</text>\n<text text-anchor=\"middle\" x=\"999\" y=\"-22.8\" font-family=\"Helvetica,sans-Serif\" font-size=\"14.00\">value = [2, 0]</text>\n<text text-anchor=\"middle\" x=\"999\" y=\"-7.8\" font-family=\"Helvetica,sans-Serif\" font-size=\"14.00\">class = malignant</text>\n</g>\n<!-- 17&#45;&gt;19 -->\n<g id=\"edge19\" class=\"edge\">\n<title>17&#45;&gt;19</title>\n<path fill=\"none\" stroke=\"black\" d=\"M913.82,-88.95C927.13,-79.34 941.64,-68.87 954.86,-59.34\"/>\n<polygon fill=\"black\" stroke=\"black\" points=\"957.26,-61.93 963.32,-53.24 953.16,-56.25 957.26,-61.93\"/>\n</g>\n</g>\n</svg>\n",
            "text/plain": [
              "<graphviz.sources.Source at 0x7c16bc32a0e0>"
            ]
          },
          "metadata": {}
        }
      ]
    },
    {
      "cell_type": "code",
      "source": [],
      "metadata": {
        "id": "M-mABGgwgRxR"
      },
      "execution_count": null,
      "outputs": []
    }
  ]
}