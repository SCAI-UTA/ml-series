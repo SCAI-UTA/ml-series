{
  "cells": [
    {
      "cell_type": "code",
      "execution_count": null,
      "metadata": {
        "id": "TR2fhTU1tG-g"
      },
      "outputs": [],
      "source": [
        "# Neural Network Basics, Perceptron, and CNNs\n",
        "import numpy as np\n",
        "import matplotlib.pyplot as plt\n",
        "from sklearn.datasets import make_blobs, make_moons\n",
        "from sklearn.model_selection import train_test_split\n",
        "from sklearn.preprocessing import StandardScaler\n",
        "from sklearn.metrics import accuracy_score\n",
        "import tensorflow as tf\n",
        "from tensorflow.keras import layers, models"
      ]
    },
    {
      "cell_type": "markdown",
      "metadata": {
        "id": "ERH3EXrWtLn0"
      },
      "source": [
        "# Section 1: Introduction to Neural Networks\n",
        "\n",
        "## Basic Concepts and Terminology\n",
        "### - **Neuron**: Basic unit of computation in a neural network.\n",
        "### - **Layer**: Group of neurons, typically including input, hidden, and output layers.\n",
        "### - **Activation Function**: Function that introduces non-linearity, allowing the network to learn complex patterns.\n",
        "\n",
        "## Structure of a Neural Network\n",
        "### A neural network consists of an input layer, one or more hidden layers, and an output layer.\n",
        "\n",
        "## Activation Functions\n",
        "### Common activation functions include Sigmoid, Tanh, and ReLU. Let's plot these functions."
      ]
    },
    {
      "cell_type": "code",
      "execution_count": null,
      "metadata": {
        "id": "SIk-JQpptch-"
      },
      "outputs": [],
      "source": [
        "x = np.linspace(-10, 10, 100)\n",
        "x"
      ]
    },
    {
      "cell_type": "markdown",
      "metadata": {
        "id": "SXQTxkMLSKoT"
      },
      "source": [
        "## Activation function"
      ]
    },
    {
      "cell_type": "code",
      "execution_count": null,
      "metadata": {
        "id": "aX2CPyQhtg7K"
      },
      "outputs": [],
      "source": [
        "# Sigmoid\n",
        "sigmoid = 1 / (1 + np.exp(-x))\n",
        "\n",
        "# Tanh\n",
        "tanh = np.tanh(x)\n",
        "\n",
        "# ReLU\n",
        "relu = np.maximum(0, x)"
      ]
    },
    {
      "cell_type": "code",
      "execution_count": null,
      "metadata": {
        "id": "J3HFvoactlnB"
      },
      "outputs": [],
      "source": [
        "plt.figure(figsize=(10, 6))\n",
        "plt.plot(x, sigmoid, label='Sigmoid')\n",
        "plt.plot(x, tanh, label='Tanh')\n",
        "plt.plot(x, relu, label='ReLU')\n",
        "plt.title('Activation Functions')\n",
        "plt.xlabel('Input')\n",
        "plt.ylabel('Output')\n",
        "plt.legend()\n",
        "plt.grid(True)\n",
        "plt.show()"
      ]
    },
    {
      "cell_type": "markdown",
      "metadata": {
        "id": "bOLMCoP_tzGX"
      },
      "source": [
        "#Section 2: Perceptron\n",
        "\n",
        "## Definition and Working of a Perceptron\n",
        "### A perceptron is the simplest type of neural network and can be used for binary classification.\n",
        "\n",
        "### Let's create a simple dataset for demonstration."
      ]
    },
    {
      "cell_type": "code",
      "execution_count": null,
      "metadata": {
        "id": "CPw6ipGKt7h6"
      },
      "outputs": [],
      "source": [
        "# Generate a dataset\n",
        "X, y = make_blobs(n_samples=100, centers=2, random_state=42)\n",
        "y = y.reshape(-1, 1)  # Reshape for compatibility"
      ]
    },
    {
      "cell_type": "code",
      "execution_count": null,
      "metadata": {
        "id": "AFKwY7I2uDo3"
      },
      "outputs": [],
      "source": [
        "# Visualize the dataset\n",
        "plt.scatter(X[:, 0], X[:, 1], c=y, cmap='bwr')\n",
        "plt.title('Binary Classification Dataset')\n",
        "plt.xlabel('Feature 1')\n",
        "plt.ylabel('Feature 2')\n",
        "plt.grid(True)\n",
        "plt.show()"
      ]
    },
    {
      "cell_type": "markdown",
      "metadata": {
        "id": "KNObbNBZuK8x"
      },
      "source": [
        "\n",
        "### Training a Perceptron (Gradient Descent)"
      ]
    },
    {
      "cell_type": "code",
      "execution_count": null,
      "metadata": {
        "id": "YFK5rzmAuI7L"
      },
      "outputs": [],
      "source": [
        "\n",
        "# Define the perceptron model\n",
        "class Perceptron:\n",
        "    def __init__(self, learning_rate=0.01, n_iters=1000):\n",
        "        #Intialize the necessary parameters\n",
        "\n",
        "    def _unit_step_func(self, x):\n",
        "        #define the step function\n",
        "\n",
        "    def fit(self, X, y):\n",
        "        # Code to fit the model\n",
        "\n",
        "\n",
        "    def predict(self, X):\n",
        "        # code to make predictions\n"
      ]
    },
    {
      "cell_type": "code",
      "execution_count": null,
      "metadata": {
        "id": "OEaGH38YuSFf"
      },
      "outputs": [],
      "source": [
        "# Train the perceptron\n",
        "perceptron = Perceptron(learning_rate=0.01, n_iters=1000)\n",
        "perceptron.fit(X, y)\n",
        "predictions = perceptron.predict(X)\n"
      ]
    },
    {
      "cell_type": "code",
      "execution_count": null,
      "metadata": {
        "id": "-HTdvmvAuUro"
      },
      "outputs": [],
      "source": [
        "# Evaluate the model\n",
        "accuracy = accuracy_score(y, predictions)\n",
        "print(f'Perceptron Accuracy: {accuracy:.2f}')"
      ]
    },
    {
      "cell_type": "code",
      "execution_count": null,
      "metadata": {
        "id": "XNZpfFIuuYFJ"
      },
      "outputs": [],
      "source": [
        "# Plot decision boundary\n",
        "x1_min, x1_max = X[:, 0].min() - 1, X[:, 0].max() + 1\n",
        "x2_min, x2_max = X[:, 1].min() - 1, X[:, 1].max() + 1\n",
        "xx1, xx2 = np.meshgrid(np.arange(x1_min, x1_max, 0.1),\n",
        "                       np.arange(x2_min, x2_max, 0.1))\n",
        "grid = np.c_[xx1.ravel(), xx2.ravel()]\n",
        "Z = perceptron.predict(grid)\n",
        "Z = Z.reshape(xx1.shape)\n",
        "\n",
        "plt.contourf(xx1, xx2, Z, alpha=0.3, cmap='bwr')\n",
        "plt.scatter(X[:, 0], X[:, 1], c=y, cmap='bwr', edgecolors='k')\n",
        "plt.title('Perceptron Decision Boundary')\n",
        "plt.xlabel('Feature 1')\n",
        "plt.ylabel('Feature 2')\n",
        "plt.grid(True)\n",
        "plt.show()\n"
      ]
    },
    {
      "cell_type": "markdown",
      "metadata": {
        "id": "7P1Hp9NYucDs"
      },
      "source": [
        "\n",
        "# Section 3: Convolutional Neural Networks (CNNs)\n",
        "\n",
        "## Basics of CNNs\n",
        "### CNNs are specialized for processing data that has a grid-like structure, such as images.\n",
        "\n",
        "## Layers in CNNs\n",
        "\n",
        "### - **Convolutional Layer**: Applies a convolution operation to the input.\n",
        "### - **Pooling Layer**: Reduces the spatial dimensions (width and height) of the input.\n",
        "### - **Fully Connected Layer**: Connects all neurons in one layer to all neurons in the next layer.\n",
        "\n",
        "## Let's build a simple CNN to classify the MNIST dataset."
      ]
    },
    {
      "cell_type": "code",
      "execution_count": null,
      "metadata": {
        "colab": {
          "base_uri": "https://localhost:8080/"
        },
        "id": "sc4jclWWupJY",
        "outputId": "85ce110c-0c20-4818-c570-1e459df05c09"
      },
      "outputs": [],
      "source": [
        "# Load the MNIST dataset\n",
        "mnist = tf.keras.datasets.mnist\n",
        "(X_train, y_train), (X_test, y_test) = mnist.load_data()\n",
        "\n",
        "# Normalize the data\n",
        "X_train, X_test = X_train / 255.0, X_test / 255.0\n",
        "\n",
        "# Reshape the data to include the channel dimension\n",
        "X_train = X_train[..., np.newaxis]\n",
        "X_test = X_test[..., np.newaxis]"
      ]
    },
    {
      "cell_type": "code",
      "execution_count": null,
      "metadata": {
        "id": "rdmY5uZkuxsE"
      },
      "outputs": [],
      "source": [
        "# Build the CNN model\n",
        "model = models.Sequential([\n",
        "  #Code for CNN architecture\n",
        "])"
      ]
    },
    {
      "cell_type": "code",
      "execution_count": null,
      "metadata": {
        "id": "hkeTpcgbu0ZW"
      },
      "outputs": [],
      "source": [
        "# Compile the model\n",
        "model.compile(optimizer='adam',\n",
        "              loss='sparse_categorical_crossentropy',\n",
        "              metrics=['accuracy'])"
      ]
    },
    {
      "cell_type": "code",
      "execution_count": null,
      "metadata": {
        "id": "twtd57RQu4TV"
      },
      "outputs": [],
      "source": [
        "# Train the model\n",
        "history = model.fit(X_train, y_train, epochs=5, validation_split=0.1)\n"
      ]
    },
    {
      "cell_type": "code",
      "execution_count": null,
      "metadata": {
        "id": "358hHkZZu8tA"
      },
      "outputs": [],
      "source": [
        "# Evaluate the model\n",
        "test_loss, test_acc = model.evaluate(X_test, y_test)\n",
        "print(f'Test Accuracy: {test_acc:.2f}')"
      ]
    },
    {
      "cell_type": "code",
      "execution_count": null,
      "metadata": {
        "id": "sZOLlSWTu_Fa"
      },
      "outputs": [],
      "source": [
        "# Plot some sample predictions\n",
        "predictions = model.predict(X_test)"
      ]
    },
    {
      "cell_type": "code",
      "execution_count": null,
      "metadata": {
        "id": "WOBm06Zms-8Z"
      },
      "outputs": [],
      "source": [
        "# Display the predictions\n",
        "plt.figure(figsize=(10, 10))\n",
        "for i in range(9):\n",
        "    plt.subplot(3, 3, i + 1)\n",
        "    plt.imshow(X_test[i], cmap='gray')\n",
        "    plt.title(f'Pred: {np.argmax(predictions[i])}, True: {y_test[i]}')\n",
        "    plt.axis('off')\n",
        "plt.show()\n"
      ]
    },
    {
      "cell_type": "code",
      "execution_count": null,
      "metadata": {
        "id": "or0K1NunwfnT"
      },
      "outputs": [],
      "source": []
    }
  ],
  "metadata": {
    "colab": {
      "provenance": []
    },
    "kernelspec": {
      "display_name": "Python 3",
      "name": "python3"
    },
    "language_info": {
      "name": "python"
    }
  },
  "nbformat": 4,
  "nbformat_minor": 0
}
